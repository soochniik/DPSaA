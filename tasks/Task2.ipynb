{
 "cells": [
  {
   "attachments": {},
   "cell_type": "markdown",
   "metadata": {},
   "source": [
    "# Контрольные задачи по дисциплине СиАОД №2\n",
    "## Выполнила студентка группы БВТ2103 Пьянова Анна Олеговна"
   ]
  },
  {
   "attachments": {},
   "cell_type": "markdown",
   "metadata": {},
   "source": [
    "### Задание\n",
    "\n",
    "Задача 1. \n",
    "Даны две строки: s1 и s2 с одинаковым размером, проверьте, может ли некоторая перестановка строки s1 “победить” некоторую перестановку строки s2 или наоборот. Строка x может “победить” строку y (обе имеют размер n), если x[i]> = y[i] (в алфавитном порядке) для всех i от 0 до n-1.\n",
    "\n",
    "Задача 2.\n",
    "Дана строка s, вернуть самую длинную полиндромную подстроку в s.\n",
    "\n",
    "Задача 3.\n",
    "Вернуть количество отдельных непустых подстрок текста, которые могут быть записаны как конкатенация некоторой строки с самой собой (т.е. она может быть записана, как a + a, где a - некоторая строка)."
   ]
  },
  {
   "attachments": {},
   "cell_type": "markdown",
   "metadata": {},
   "source": [
    "### Задача  1"
   ]
  },
  {
   "cell_type": "code",
   "execution_count": 1,
   "metadata": {},
   "outputs": [
    {
     "name": "stdout",
     "output_type": "stream",
     "text": [
      "False\n"
     ]
    }
   ],
   "source": [
    "def winStr(s1, s2): #проверка \"победы\" некоторой перестановки s1 над s2 и наоборот\n",
    "    if len(s1) != len(s2):\n",
    "        return False\n",
    "    char1 = []\n",
    "    char2 = []\n",
    "    for cur in s1:\n",
    "        char1.append(cur)\n",
    "    for cur in s2:\n",
    "        char2.append(cur)\n",
    "    char1.sort()\n",
    "    char2.sort()\n",
    "    i = 0\n",
    "    while i < len(s1): #проверка \"победы\" первой строки над второй\n",
    "        if (char1[i] < char2[i]): #если условие \"победы\" не выполняется\n",
    "            break #прерываем цикл, т.к. строки изначально отсортированы\n",
    "        i += 1\n",
    "    if (i == len(s1)):\n",
    "        return True\n",
    "    i = 0\n",
    "    while i < len(s2): #проверка \"победы\" второй строки над первой\n",
    "        if (char2[i] < char1[i]):\n",
    "            break\n",
    "        i += 1\n",
    "    if (i == len(s2)):\n",
    "        return True\n",
    "    else:\n",
    "        return False\n",
    "    \n",
    "print(winStr(\"abe\", \"acd\"))"
   ]
  },
  {
   "attachments": {},
   "cell_type": "markdown",
   "metadata": {},
   "source": [
    "### Задача 2"
   ]
  },
  {
   "cell_type": "code",
   "execution_count": 2,
   "metadata": {},
   "outputs": [
    {
     "name": "stdout",
     "output_type": "stream",
     "text": [
      "bab\n"
     ]
    }
   ],
   "source": [
    "def maxPalindrome(str): #максимальная подстрока-палиндром\n",
    "    mxPal = \"\"\n",
    "    for i in range(len(str)):\n",
    "        curPal = \"\"\n",
    "        curPal += str[i]\n",
    "        if (len(mxPal) == 0):\n",
    "            mxPal = curPal\n",
    "        for j in range(i + 1, len(str)):\n",
    "            curPal += str[j]\n",
    "            if (curPal == curPal[::-1] and len(curPal) > len(mxPal)): #условие >= для последнего палиндрома, > для первого\n",
    "                mxPal = curPal\n",
    "    return mxPal\n",
    "\n",
    "print(maxPalindrome(\"babad\"))"
   ]
  },
  {
   "attachments": {},
   "cell_type": "markdown",
   "metadata": {},
   "source": [
    "### Задача 3"
   ]
  },
  {
   "cell_type": "code",
   "execution_count": 3,
   "metadata": {},
   "outputs": [
    {
     "name": "stdout",
     "output_type": "stream",
     "text": [
      "3\n"
     ]
    }
   ],
   "source": [
    "def substr(str): #кол-во подстрок, представляющих собой конкатенацию 2-х одинаковах строк\n",
    "    substr = []\n",
    "    for i in range (len(str)):\n",
    "        for j in range (i + 1, len(str)):\n",
    "            if str[j] == str [i]: #если два символа равны\n",
    "                if str[i:j] == str[j:(2*j-i)]: #если после j-го символа присутствуют такие же, как от i-го до j-го\n",
    "                    substr.append(str[i:j])\n",
    "                else:\n",
    "                    break\n",
    "    return len(list(set(substr))) #размер множества с уникальными подстроками\n",
    "\n",
    "print(substr(\"abcabcabc\"))"
   ]
  }
 ],
 "metadata": {
  "kernelspec": {
   "display_name": "Python 3",
   "language": "python",
   "name": "python3"
  },
  "language_info": {
   "codemirror_mode": {
    "name": "ipython",
    "version": 3
   },
   "file_extension": ".py",
   "mimetype": "text/x-python",
   "name": "python",
   "nbconvert_exporter": "python",
   "pygments_lexer": "ipython3",
   "version": "3.10.11"
  },
  "orig_nbformat": 4
 },
 "nbformat": 4,
 "nbformat_minor": 2
}
