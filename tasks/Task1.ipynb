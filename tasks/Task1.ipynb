{
 "cells": [
  {
   "attachments": {},
   "cell_type": "markdown",
   "metadata": {},
   "source": [
    "# Контрольные задачи по дисциплине СиАОД №1\n",
    "## Выполнила студентка группы БВТ2103 Пьянова Анна Олеговна"
   ]
  },
  {
   "attachments": {},
   "cell_type": "markdown",
   "metadata": {},
   "source": [
    "### Задание\n",
    "\n",
    "Задача 1. «Треугольник с максимальным периметром»\n",
    "Массив A состоит из целых положительных чисел длин отрезков. Составьте из трех отрезков такой треугольник, чтобы его периметр был максимально возможным. Если невозможно составить треугольник с положительной площадью функция возвращает 0.\n",
    "\n",
    "Задача 2. «Максимальное число»\n",
    "Дан массив неотрицательных целых чисел nums. Расположите их в таком порядке, чтобы вместе они образовали максимально возможное число.\n",
    "Замечание: Результат может быть очень большим числом, поэтому представьте его как string, а не integer.\n",
    "\n",
    "Задача 3. «Сортировка диагоналей в матрице»\n",
    "Дана матрица mat размером m * n, значения целочисленные.\n",
    "Напишите функцию, сортирующую каждую диагональ матрицы по возрастанию и возвращающую получившуюся матрицу."
   ]
  },
  {
   "attachments": {},
   "cell_type": "markdown",
   "metadata": {},
   "source": [
    "### Задача  1"
   ]
  },
  {
   "cell_type": "code",
   "execution_count": 1,
   "metadata": {},
   "outputs": [
    {
     "name": "stdout",
     "output_type": "stream",
     "text": [
      "10\n"
     ]
    }
   ],
   "source": [
    "def maxPerimetr(arr): #треугольник с максимальным периметром\n",
    "    maxPer = 0\n",
    "    for i in range (len(arr) - 2):\n",
    "        for j in range (i+1, len(arr) - 1):\n",
    "            for k in range (j+1, len(arr)):\n",
    "                a = arr[i]\n",
    "                b = arr[j]\n",
    "                c = arr[k]\n",
    "                if (a + b > c and a + c > b and b + c > a and a + b + c > maxPer):\n",
    "                    maxPer = a + b + c\n",
    "    return(maxPer)\n",
    "\n",
    "print(maxPerimetr([3,2,3,4]))"
   ]
  },
  {
   "attachments": {},
   "cell_type": "markdown",
   "metadata": {},
   "source": [
    "### Задача 2"
   ]
  },
  {
   "cell_type": "code",
   "execution_count": 2,
   "metadata": {},
   "outputs": [
    {
     "name": "stdout",
     "output_type": "stream",
     "text": [
      "9534330\n"
     ]
    }
   ],
   "source": [
    "def maxNum(nums): #максимальное число\n",
    "    numsStr = []\n",
    "    res = \"\"\n",
    "    for i in nums:\n",
    "        numsStr.append(str(i))\n",
    "    numsStr.sort() #сортировка массива строк\n",
    "    for cur in numsStr: #вставка каждого числа либо в конец, либо в начало\n",
    "        if cur + res > res + cur:\n",
    "            res = cur + res\n",
    "        else:\n",
    "            res += cur\n",
    "    return res\n",
    "\n",
    "print (maxNum([3,30,34,5,9]))"
   ]
  },
  {
   "attachments": {},
   "cell_type": "markdown",
   "metadata": {},
   "source": [
    "### Задача 3"
   ]
  },
  {
   "cell_type": "code",
   "execution_count": 3,
   "metadata": {},
   "outputs": [
    {
     "name": "stdout",
     "output_type": "stream",
     "text": [
      "[[5, 17, 4, 1, 52, 7], [11, 11, 25, 45, 8, 69], [14, 23, 25, 44, 58, 15], [22, 27, 31, 36, 50, 66], [84, 28, 75, 33, 55, 68]]\n"
     ]
    }
   ],
   "source": [
    "def sortDiag(matrix): #сортировка диагоналей в матрице\n",
    "    m = len(matrix) #кол-во строк\n",
    "    n = len(matrix[0]) - 1 #кол-во столбцов - 1\n",
    "    diag = [] #массив для хранения отсортированных диагоналей\n",
    "    for i in range(2-m, n): #цикл по кол-ву диагоналей (кроме первой и последней)\n",
    "        for j in range (m):\n",
    "            if (i + j >= 0 and i + j <= n):\n",
    "                diag.append(matrix[j][i + j])\n",
    "        diag.sort()\n",
    "        k = 0\n",
    "        for j in range (m): #обновление матрицы отсортированными диагоналями\n",
    "            if (i + j >= 0 and i + j <= n):\n",
    "                matrix[j][i + j] = diag[k]\n",
    "                k+=1\n",
    "        diag = []\n",
    "    return matrix\n",
    "\n",
    "print(sortDiag([[11, 25, 66, 1, 69, 7], [23, 55, 17, 45, 15, 52], [75, 31, 36, 44, 58, 8], [22, 27, 33, 25, 68, 4], [84, 28, 14, 11, 5, 50]]))"
   ]
  }
 ],
 "metadata": {
  "kernelspec": {
   "display_name": "Python 3",
   "language": "python",
   "name": "python3"
  },
  "language_info": {
   "codemirror_mode": {
    "name": "ipython",
    "version": 3
   },
   "file_extension": ".py",
   "mimetype": "text/x-python",
   "name": "python",
   "nbconvert_exporter": "python",
   "pygments_lexer": "ipython3",
   "version": "3.10.11"
  },
  "orig_nbformat": 4
 },
 "nbformat": 4,
 "nbformat_minor": 2
}
