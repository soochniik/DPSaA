{
  "cells": [
    {
      "attachments": {},
      "cell_type": "markdown",
      "id": "fifteen-sailing",
      "metadata": {
        "id": "fifteen-sailing"
      },
      "source": [
        "# Лабораторная работа №2\n",
        "## Выполнила студентка группы БВТ2103 Пьянова Анна Олеговна"
      ]
    },
    {
      "cell_type": "markdown",
      "id": "arctic-stocks",
      "metadata": {
        "id": "arctic-stocks"
      },
      "source": [
        "Реализовать следующие структуры данных:\n",
        "  \n",
        "● <b> Стек (stack): </b>  \n",
        "Операции для стека: \n",
        "<i> инициализация, проверка на пустоту, добавление нового элемента в начало, извлечение элемента из начала;  </i>  \n",
        "  \n",
        "● <b> Дек (двусторонняя очередь, deque):  </b>  \n",
        "Операции для дека: \n",
        "<i> инициализация, проверка на пустоту, добавление нового элемента в начало, добавление нового элемента в конец, извлечение элемента из начала, извлечение элемента из конца. </i>  \n",
        "  \n",
        "<i> Разработать программу обработки данных, содержащихся в заранее подготовленном txt-файле, в соответствии с заданиями, применив указанную в задании структуру данных. Результат работы программы вывести на экран и сохранить в отдельном txt-файле. </i>"
      ]
    },
    {
      "cell_type": "code",
      "execution_count": 2,
      "id": "11bd7938",
      "metadata": {},
      "outputs": [],
      "source": [
        "class LinkedNode:\n",
        "    \n",
        "    def __init__(self, value=None):\n",
        "        self.value = value\n",
        "        self.right = None\n",
        "        self.left = None\n",
        "\n",
        "#Реализация Стека\n",
        "class Stack:\n",
        "    \n",
        "    #инициализация\n",
        "    def __init__(self):\n",
        "        self.head = LinkedNode()\n",
        "        self.size = 0\n",
        "    \n",
        "    #проверка на пустоту\n",
        "    def is_empty(self):\n",
        "        return self.size == 0\n",
        "\n",
        "    #добавление нового элемента сверху\n",
        "    def add(self, value):\n",
        "        if self.size > 0:\n",
        "            node = LinkedNode(value)\n",
        "            node.right = self.head\n",
        "            self.head = node\n",
        "        else:\n",
        "            self.head.value = value\n",
        "        self.size += 1\n",
        "\n",
        "    #извлечение элемента сверху\n",
        "    def pop(self):\n",
        "        if self.is_empty():\n",
        "            return print(\"Stack is empty\\n\")\n",
        "        remove = self.head\n",
        "        if self.size > 1:\n",
        "            self.head = remove.right\n",
        "        self.size -= 1\n",
        "        return remove.value\n",
        "    \n",
        "    #возвращение верхнего элемента\n",
        "    def get(self):\n",
        "        if self.is_empty():\n",
        "            return print(\"Stack is empty\\n\")\n",
        "        return self.head.value\n",
        "    \n",
        "    #возвращение количества элементов\n",
        "    def lenght(self):\n",
        "        return self.size\n",
        "\n",
        "#Реализация Дека   \n",
        "class Deque:\n",
        "    \n",
        "    #инициализация\n",
        "    def __init__(self):   \n",
        "        self.head = LinkedNode()\n",
        "        self.tail = self.head\n",
        "        self.size = 0\n",
        "    \n",
        "    #проверка на пустоту\n",
        "    def is_empty(self):\n",
        "        return self.size == 0\n",
        "    \n",
        "    #добавление нового элемента в конец\n",
        "    def add(self, value):\n",
        "        if self.size > 0:\n",
        "            node = LinkedNode(value)\n",
        "            node.left = self.head\n",
        "            self.head.right = node\n",
        "            self.head = node\n",
        "        else:\n",
        "            self.head.value = value\n",
        "        self.size += 1\n",
        "\n",
        "    #добавление нового элемента в начало\n",
        "    def addLeft(self, value):  \n",
        "        if self.size > 0:\n",
        "            node = LinkedNode(value)\n",
        "            node.right = self.tail\n",
        "            self.tail.left = node\n",
        "            self.tail = node\n",
        "        else:\n",
        "            self.tail.value = value\n",
        "        self.size += 1\n",
        "    \n",
        "    #извлечение элемента из конца\n",
        "    def pop(self):\n",
        "        if self.is_empty():\n",
        "            return print(\"Stack is empty\\n\")\n",
        "        remove = self.head\n",
        "        if self.size > 1:\n",
        "            self.head = remove.left\n",
        "        self.size -= 1\n",
        "        return remove.value\n",
        "    \n",
        "    #извлечение элемента из начала  \n",
        "    def popLeft(self):\n",
        "        if self.is_empty():\n",
        "            return print(\"Stack is empty\\n\")\n",
        "        remove = self.tail\n",
        "        if self.size > 1:\n",
        "            self.tail = remove.right\n",
        "        self.size -= 1\n",
        "        return remove.value\n",
        "    \n",
        "    #возвращение последнего элемента\n",
        "    def get(self):\n",
        "        if self.is_empty():\n",
        "            return print(\"Stack is empty\\n\")\n",
        "        return self.head.value\n",
        "    \n",
        "    #возвращение первого элемента\n",
        "    def getLeft(self):\n",
        "        if self.is_empty():\n",
        "            return print(\"Stack is empty\\n\")\n",
        "        return self.tail.value\n",
        "    \n",
        "    #возвращение количества элементов\n",
        "    def lenght(self):\n",
        "        return self.size\n",
        "    "
      ]
    },
    {
      "cell_type": "markdown",
      "id": "5d7edb08",
      "metadata": {
        "id": "5d7edb08",
        "scrolled": true
      },
      "source": [
        "### Задание №1\n",
        "Отсортировать строки файла, содержащие названия книг, в алфавитном порядке с использованием двух деков."
      ]
    },
    {
      "cell_type": "code",
      "execution_count": 24,
      "id": "17702ade",
      "metadata": {
        "id": "17702ade"
      },
      "outputs": [
        {
          "name": "stdout",
          "output_type": "stream",
          "text": [
            "Dead Zone\n",
            "\n",
            "East of Eden\n",
            "\n",
            "Jane Eyre\n",
            "\n",
            "Of Human Bondage\n",
            "\n",
            "Pride and Prejudice \n",
            "\n",
            "Rebecca\n",
            "\n",
            "The Painted Veil\n",
            "The Shining\n",
            "\n",
            "Three Comrades\n",
            "\n",
            "To Kill a Mockinbird\n",
            "\n"
          ]
        }
      ],
      "source": [
        "booksNoSort = Deque()\n",
        "booksSort = Deque()\n",
        "\n",
        "books = open(\"books.txt\", \"r\")\n",
        "lines = books.readlines()\n",
        "\n",
        "for line in lines:\n",
        "    booksNoSort.add(line)\n",
        "\n",
        "books.close\n",
        "\n",
        "while not booksNoSort.is_empty():\n",
        "    cur = booksNoSort.pop()\n",
        "    while not booksSort.is_empty() and booksSort.get() < cur:\n",
        "        booksNoSort.addLeft(booksSort.pop())\n",
        "    booksSort.add(cur)\n",
        "\n",
        "while not booksSort.is_empty():\n",
        "    print(booksSort.pop())\n"
      ]
    },
    {
      "cell_type": "markdown",
      "id": "49fbd2a0",
      "metadata": {
        "id": "49fbd2a0"
      },
      "source": [
        "### Задание №2\n",
        "Дек содержит последовательность символов для шифровки сообщений. Дан текстовый файл, содержащий зашифрованное сообщение. Пользуясь деком, расшифровать текст. \n",
        "Известно, что при шифровке каждый символ сообщения заменялся следующим за ним в деке по часовой стрелке через один."
      ]
    },
    {
      "cell_type": "code",
      "execution_count": 41,
      "id": "81cab7a8",
      "metadata": {
        "id": "81cab7a8"
      },
      "outputs": [
        {
          "name": "stdout",
          "output_type": "stream",
          "text": [
            "свобфю чтвпкф оприжуфдр твйпэч йвсвчрд\n",
            "память хранит множество разных запахов\n"
          ]
        }
      ],
      "source": [
        "chars = 'абвгдеёжзийклмнопрстуфхцчшщъыьэюя'\n",
        "symbols = Deque()\n",
        "for char in chars:\n",
        "    symbols.add(char)\n",
        "key = 2\n",
        "\n",
        "def code(char):\n",
        "    for i in range(symbols.lenght()):\n",
        "        cur1 = symbols.popLeft()\n",
        "        if char == cur1:\n",
        "            symbols.add(cur1)\n",
        "            for i in range (key):\n",
        "                cur2 = symbols.popLeft()\n",
        "                symbols.add(cur2)\n",
        "            return (cur2)\n",
        "        symbols.add(cur1)\n",
        "\n",
        "def decode(char):\n",
        "    for i in range(symbols.lenght()):\n",
        "        cur1 = symbols.pop()\n",
        "        if char == cur1:\n",
        "            symbols.addLeft(cur1)\n",
        "            for i in range (key):\n",
        "                cur2 = symbols.pop()\n",
        "                symbols.addLeft(cur2)\n",
        "            return (cur2)\n",
        "        symbols.addLeft(cur1)\n",
        "\n",
        "message = 'память хранит множество разных запахов'\n",
        "\n",
        "res_code = ''\n",
        "for char in message:\n",
        "    if char.isalpha():\n",
        "        res_code += code(char)\n",
        "    else:\n",
        "        res_code += char\n",
        "print(res_code)\n",
        "\n",
        "res_decode = ''\n",
        "for char in res_code:\n",
        "    if char.isalpha():\n",
        "        res_decode += decode(char)\n",
        "    else:\n",
        "        res_decode += char\n",
        "print(res_decode)\n"
      ]
    },
    {
      "cell_type": "markdown",
      "id": "c0894f47",
      "metadata": {
        "id": "c0894f47"
      },
      "source": [
        "### Задание №3\n",
        "Даны три стержня и n дисков различного размера. Диски можно надевать на стержни, образуя из них башни. Перенести n дисков со стержня А на стержень С, сохранив их первоначальный порядок. При переносе дисков необходимо соблюдать следующие правила:\n",
        "- на каждом шаге со стержня на стержень переносить только один диск;\n",
        "- диск нельзя помещать на диск меньшего размера;\n",
        "- для промежуточного хранения можно использовать стержень В.\n",
        "Реализовать алгоритм, используя три стека вместо стержней А, В, С. Информация о дисках хранится в исходном файле."
      ]
    },
    {
      "cell_type": "code",
      "execution_count": 46,
      "id": "9e91a9d4",
      "metadata": {
        "id": "9e91a9d4"
      },
      "outputs": [
        {
          "name": "stdout",
          "output_type": "stream",
          "text": [
            "1\n",
            "2\n",
            "3\n",
            "4\n",
            "5\n",
            "6\n"
          ]
        }
      ],
      "source": [
        "A = Stack()\n",
        "B = Stack()\n",
        "C = Stack()\n",
        "\n",
        "count = 6\n",
        "\n",
        "for i in range(count, 0, -1):\n",
        "    A.add(i)\n",
        "\n",
        "def addTo(a,b):\n",
        "    if a.lenght() > 0 and b.lenght() == 0:\n",
        "        b.add(a.pop())\n",
        "    elif a.lenght() == 0 and b.lenght() > 0:\n",
        "        a.add(b.pop())\n",
        "    elif a.get() > b.get():\n",
        "        a.add(b.pop())\n",
        "    else:\n",
        "        b.add(a.pop())\n",
        "\n",
        "if count % 2 == 0:\n",
        "    while C.lenght() < count:\n",
        "        addTo(A, B)\n",
        "        addTo(A, C)\n",
        "        addTo(B, C)\n",
        "else:\n",
        "    while C.lenght() < count:\n",
        "        addTo(A, C)\n",
        "        addTo(A, B)\n",
        "        addTo(B, C)\n",
        "\n",
        "while not C.is_empty():\n",
        "    print(C.pop())"
      ]
    },
    {
      "cell_type": "markdown",
      "id": "e5b0be17",
      "metadata": {
        "id": "e5b0be17"
      },
      "source": [
        "### Задание №4\n",
        "Дан текстовый файл с программой на алгоритмическом языке. За один просмотр файла проверить баланс круглых скобок в тексте, используя стек."
      ]
    },
    {
      "cell_type": "code",
      "execution_count": 27,
      "id": "5b1df60a",
      "metadata": {
        "id": "5b1df60a"
      },
      "outputs": [
        {
          "name": "stdout",
          "output_type": "stream",
          "text": [
            "True\n",
            "False\n"
          ]
        }
      ],
      "source": [
        "def check(mes):\n",
        "    onlyBrack = Stack()\n",
        "    for char in mes:\n",
        "        if char == '(':\n",
        "            onlyBrack.add(char)\n",
        "        elif char == ')':\n",
        "            if onlyBrack.is_empty():\n",
        "                return False\n",
        "            onlyBrack.pop()\n",
        "    return onlyBrack.is_empty()\n",
        "\n",
        "print(check('(((((;;)gg))))'))\n",
        "print(check('((jdj((),,,))))'))"
      ]
    },
    {
      "cell_type": "markdown",
      "id": "c44cdd6b",
      "metadata": {
        "id": "c44cdd6b"
      },
      "source": [
        "### Задание №5\n",
        "Дан текстовый файл с программой на алгоритмическом языке. За один просмотр файла проверить баланс квадратных скобок в тексте, используя дек."
      ]
    },
    {
      "cell_type": "code",
      "execution_count": 29,
      "id": "36b8f400",
      "metadata": {
        "id": "36b8f400"
      },
      "outputs": [
        {
          "name": "stdout",
          "output_type": "stream",
          "text": [
            "True\n",
            "False\n"
          ]
        }
      ],
      "source": [
        "def check(mes):\n",
        "    onlyBrack = Deque()\n",
        "    for char in mes:\n",
        "        if char == '[':\n",
        "            onlyBrack.add(char)\n",
        "        elif char == ']':\n",
        "            if onlyBrack.is_empty():\n",
        "                return False\n",
        "            onlyBrack.pop()\n",
        "    return onlyBrack.is_empty()\n",
        "\n",
        "print(check('[[ddd[kf]]]'))\n",
        "print(check('[[]]lls]]]'))"
      ]
    },
    {
      "cell_type": "markdown",
      "id": "59d13dc7",
      "metadata": {
        "id": "59d13dc7"
      },
      "source": [
        "### Задание №6\n",
        "Дан файл из символов. Используя стек, за один просмотр файла напечатать сначала все цифры, затем все буквы, и, наконец, все остальные символы, сохраняя исходный порядок в каждой группе символов."
      ]
    },
    {
      "cell_type": "code",
      "execution_count": 3,
      "id": "297e36c2",
      "metadata": {
        "id": "297e36c2"
      },
      "outputs": [
        {
          "name": "stdout",
          "output_type": "stream",
          "text": [
            "ucslkkb6652542*+!@\n"
          ]
        }
      ],
      "source": [
        "file = open(\"txt/2_6.txt\", \"r\")\n",
        "message = file.read()\n",
        "\n",
        "alphas = Stack()\n",
        "digits = Stack()\n",
        "symbs = Stack()\n",
        "alphasRever = Stack()\n",
        "digitsRever = Stack()\n",
        "symbsRever = Stack()\n",
        "\n",
        "for char in message:\n",
        "    if char.isalpha():\n",
        "        alphas.add(char)\n",
        "    elif char.isdigit():\n",
        "        digits.add(char)\n",
        "    else:\n",
        "        symbs.add(char)\n",
        "\n",
        "while not alphas.is_empty():\n",
        "    alphasRever.add(alphas.pop())\n",
        "while not digits.is_empty():\n",
        "    digitsRever.add(digits.pop())\n",
        "while not symbs.is_empty():\n",
        "    symbsRever.add(symbs.pop())\n",
        "\n",
        "res = ''\n",
        "while not alphasRever.is_empty():\n",
        "    res += alphasRever.pop()\n",
        "while not digitsRever.is_empty():\n",
        "    res += digitsRever.pop()\n",
        "while not symbsRever.is_empty():\n",
        "    res += symbsRever.pop()\n",
        "\n",
        "print(res)\n",
        "\n",
        "file.close()"
      ]
    },
    {
      "cell_type": "markdown",
      "id": "973f68bd",
      "metadata": {
        "id": "973f68bd"
      },
      "source": [
        "### Задание №7\n",
        "Дан файл из целых чисел. Используя дек, за один просмотр файла напечатать сначала все отрицательные числа, затем все положительные числа, сохраняя исходный порядок в каждой группе."
      ]
    },
    {
      "cell_type": "code",
      "execution_count": 4,
      "id": "c56fad66",
      "metadata": {
        "id": "c56fad66"
      },
      "outputs": [
        {
          "name": "stdout",
          "output_type": "stream",
          "text": [
            "-8\n",
            "-9\n",
            "-12\n",
            "-1\n",
            "5\n",
            "6\n",
            "9\n",
            "21\n",
            "0\n",
            "52\n",
            "41\n"
          ]
        }
      ],
      "source": [
        "file = open(\"txt/2_7.txt\", \"r\")\n",
        "mes = file.read()\n",
        "digs = [int(i) for i in mes.split()]\n",
        "\n",
        "res = Deque()\n",
        "for i in digs:\n",
        "    if i < 0:\n",
        "        res.add(i)\n",
        "for i in digs:\n",
        "    if i >= 0:\n",
        "        res.add(i)\n",
        "\n",
        "while not res.is_empty():\n",
        "    print(res.popLeft())\n",
        "\n",
        "file.close()"
      ]
    },
    {
      "cell_type": "markdown",
      "id": "b9228191",
      "metadata": {
        "id": "b9228191"
      },
      "source": [
        "### Задание №8\n",
        "Дан текстовый файл. Используя стек, сформировать новый текстовый файл, содержащий строки исходного файла, записанные в обратном порядке: первая строка становится последней, вторая – предпоследней и т.д."
      ]
    },
    {
      "cell_type": "code",
      "execution_count": 6,
      "id": "981fbdfe",
      "metadata": {
        "id": "981fbdfe"
      },
      "outputs": [
        {
          "name": "stdout",
          "output_type": "stream",
          "text": [
            "Three Comrades\n",
            "Dead Zone\n",
            "Rebecca\n",
            "East of Eden\n",
            "Of Human Bondage\n",
            "The Shining\n",
            "To Kill a Mockinbird\n",
            "Jane Eyre\n",
            "Pride and Prejudice\n",
            "The Painted Veil\n",
            "\n",
            "The Painted Veil\n",
            "Pride and Prejudice\n",
            "Jane Eyre\n",
            "To Kill a Mockinbird\n",
            "The Shining\n",
            "Of Human Bondage\n",
            "East of Eden\n",
            "Rebecca\n",
            "Dead Zone\n",
            "Three Comrades\n"
          ]
        },
        {
          "data": {
            "text/plain": [
              "<function TextIOWrapper.close()>"
            ]
          },
          "execution_count": 6,
          "metadata": {},
          "output_type": "execute_result"
        }
      ],
      "source": [
        "books = Stack()\n",
        "\n",
        "#добавление строк в стек\n",
        "file = open(\"txt/books.txt\", \"r\")\n",
        "lines = file.readlines()\n",
        "\n",
        "for line in lines:\n",
        "    line = line.strip()\n",
        "    print(line)\n",
        "    books.add(line)\n",
        "\n",
        "file.close\n",
        "\n",
        "print()\n",
        "\n",
        "#запись в новый текстовый файл строк в обратном порядке\n",
        "with open(\"txt/res.txt\", \"w\") as file:\n",
        "    while not books.is_empty():\n",
        "        file.write(books.pop() + '\\n')\n",
        "\n",
        "#вывод на экран содержимого нового текстового файла\n",
        "file = open(\"txt/res.txt\", \"r\")\n",
        "lines = file.readlines()\n",
        "\n",
        "for line in lines:\n",
        "    line = line.strip()\n",
        "    print(line)\n",
        "\n",
        "file.close\n"
      ]
    },
    {
      "cell_type": "markdown",
      "id": "rental-jerusalem",
      "metadata": {
        "id": "rental-jerusalem"
      },
      "source": [
        "### Вывод\n"
      ]
    },
    {
      "attachments": {},
      "cell_type": "markdown",
      "id": "0c2b8899",
      "metadata": {
        "id": "0c2b8899"
      },
      "source": [
        "В ходе выполнения работы мы реализовали такие структуры данных как стек и двусторонняя очередь (дек), а также с их помощью решили задачи."
      ]
    }
  ],
  "metadata": {
    "colab": {
      "provenance": []
    },
    "kernelspec": {
      "display_name": "Python 3",
      "language": "python",
      "name": "python3"
    },
    "language_info": {
      "codemirror_mode": {
        "name": "ipython",
        "version": 3
      },
      "file_extension": ".py",
      "mimetype": "text/x-python",
      "name": "python",
      "nbconvert_exporter": "python",
      "pygments_lexer": "ipython3",
      "version": "3.10.10"
    },
    "vscode": {
      "interpreter": {
        "hash": "f34b373ff121092872c583b5beec1c06e1f6ac4f45abc765f25d20d6ea40e1e7"
      }
    }
  },
  "nbformat": 4,
  "nbformat_minor": 5
}
