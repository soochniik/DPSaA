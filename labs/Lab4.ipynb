{
 "cells": [
  {
   "attachments": {},
   "cell_type": "markdown",
   "metadata": {},
   "source": [
    "# Лабораторная работа №4\n",
    "# Методы поиска\n",
    "## Выполнила студентка группы БВТ2103 Пьянова Анна Олеговна"
   ]
  },
  {
   "attachments": {},
   "cell_type": "markdown",
   "metadata": {},
   "source": [
    "### Задание\n",
    "\n",
    "Реализовать методы поиска в соответствии с заданием. Организовать генерацию начального набора случайных данных. Для всех вариантов добавить реализацию добавления, поиска и удаления элементов. Оценить время работы каждого алгоритма поиска и сравнить его со временем работы стандартной функции поиска, используемой в выбранном языке программирования.\n",
    "\n",
    "1.  Бинарный поиск, Бинарное дерево, Фибоначчиев поиск, Интерполяционный поиск. \n",
    "\n",
    "2.  Простое рехэшировние, Рехэширование с помощью псевдослучайных чисел, Метод цепочек. \n",
    "\n",
    "3. Расставить на стандартной 64-клеточной шахматной доске 8 ферзей так, чтобы ни один из них не находился под боем другого». Подразумевается, что ферзь бьёт все клетки, расположенные по вертикалям, горизонталям и обеим диагоналям.\n",
    "Написать программу,  которая находит хотя бы один способ решения задач."
   ]
  },
  {
   "attachments": {},
   "cell_type": "markdown",
   "metadata": {},
   "source": [
    "### Задание 1"
   ]
  },
  {
   "attachments": {},
   "cell_type": "markdown",
   "metadata": {},
   "source": [
    "Генерация начального набора случайных чисел"
   ]
  },
  {
   "cell_type": "code",
   "execution_count": 1,
   "metadata": {},
   "outputs": [],
   "source": [
    "from random import randint\n",
    "\n",
    "def generateArray(n=20, min=4, max=53):\n",
    "    arr = []\n",
    "    for i in range(n):\n",
    "        arr.append(randint(min, max))\n",
    "    arr.sort()\n",
    "    return arr"
   ]
  },
  {
   "attachments": {},
   "cell_type": "markdown",
   "metadata": {},
   "source": [
    "Бинарный поиск"
   ]
  },
  {
   "cell_type": "code",
   "execution_count": 13,
   "metadata": {},
   "outputs": [
    {
     "name": "stdout",
     "output_type": "stream",
     "text": [
      "[9, 12, 15, 15, 16, 17, 22, 23, 25, 27, 31, 32, 32, 34, 42, 42, 42, 46, 52, 53]\n",
      "Found index of 27 : 9\n",
      "After insert 41 : [9, 12, 15, 15, 16, 17, 22, 23, 25, 27, 31, 32, 32, 34, 41, 42, 42, 42, 46, 52, 53]\n",
      "After delete 15 : [9, 12, 15, 16, 17, 22, 23, 25, 27, 31, 32, 32, 34, 41, 42, 42, 42, 46, 52, 53]\n"
     ]
    }
   ],
   "source": [
    "def binarySearch(arr, key):\n",
    "    middle = len(arr) // 2\n",
    "    left = 0\n",
    "    right = len(arr) - 1\n",
    "    while arr[middle] != key and left <= right:\n",
    "        if key > arr[middle]:\n",
    "            left = middle + 1\n",
    "        else:\n",
    "            right = middle - 1\n",
    "        middle = (left + right) // 2\n",
    " \n",
    "    if left > right:\n",
    "        return \"No value\"\n",
    "    else:\n",
    "        return middle\n",
    "        \n",
    "array = generateArray()\n",
    "print(array)\n",
    "k1 = int(input(\"For search: \", ))\n",
    "print(\"Found index of\", k1, \":\", binarySearch(array, k1))\n",
    "k2 = int(input(\"For insert: \", ))\n",
    "array.append(k2)\n",
    "array.sort()\n",
    "print(\"After insert\", k2, \":\", array)\n",
    "k3 = int(input(\"For delete: \", ))\n",
    "array.remove(k3)\n",
    "print(\"After delete\", k3, \":\", array)\n"
   ]
  },
  {
   "attachments": {},
   "cell_type": "markdown",
   "metadata": {},
   "source": [
    "Бинарное дерево"
   ]
  },
  {
   "cell_type": "code",
   "execution_count": 1,
   "metadata": {},
   "outputs": [
    {
     "name": "stdout",
     "output_type": "stream",
     "text": [
      "Arter insert: \n",
      "20 \n",
      "5 24 \n",
      "2 16 \n",
      "11 18 \n",
      "After delete: \n",
      "20 \n",
      "11 24 \n",
      "2 16 \n",
      "18 \n"
     ]
    }
   ],
   "source": [
    "#создание класса узла дерева\n",
    "class Node:\n",
    "    def __init__(self, data):\n",
    "        self.data = data #данные, хранящиеся в узле\n",
    "        self.left = None #левый потомок узла\n",
    "        self.right = None #правый потомок узла\n",
    "\n",
    "#создание класса дерева        \n",
    "class Tree:\n",
    "    def __init__(self):\n",
    "        self.root = None #корневой узел дерева\n",
    " \n",
    "    #метод для добавления нового узла в дерево\n",
    "    def insert(self, data):\n",
    "        new_node = Node(data)\n",
    "        if self.root is None:\n",
    "            self.root = new_node\n",
    "            return\n",
    "        current = self.root\n",
    "        while True:\n",
    "            if data < current.data:\n",
    "                if current.left is None:\n",
    "                    current.left = new_node\n",
    "                    break\n",
    "                current = current.left\n",
    "            else:\n",
    "                if current.right is None:\n",
    "                    current.right = new_node\n",
    "                    break\n",
    "                current = current.right\n",
    "    \n",
    "    #метод для поиска узла в дереве\n",
    "    def search(self, current, parent, data):\n",
    "        if current is None:\n",
    "            return None, parent, False\n",
    "        if current.data == data:\n",
    "            return current, parent, True\n",
    "        elif data < current.data:\n",
    "            return self.search(current.left, current, data)\n",
    "        else:\n",
    "            return self.search(current.right, current, data)\n",
    "\n",
    "    #метод для обхода в глубину (левая ветвь в первую очередь)\n",
    "    def depht_first(self, node):\n",
    "        if node is None:\n",
    "            return\n",
    " \n",
    "        self.depht_first(node.left)\n",
    "        print(node.data)\n",
    "        self.depht_first(node.right)\n",
    " \n",
    "    #метод для обхода в ширину\n",
    "    def breadth_first(self, node):\n",
    "        if node is None:\n",
    "            return\n",
    " \n",
    "        vertexs = [node]\n",
    "        while vertexs:\n",
    "            next_vert = []\n",
    "            for cur in vertexs:\n",
    "                print(cur.data, end=\" \")\n",
    "                if cur.left:\n",
    "                    next_vert.append(cur.left)\n",
    "                if cur.right:\n",
    "                    next_vert.append(cur.right)\n",
    "            print()\n",
    "            vertexs = next_vert\n",
    " \n",
    "    #метод для удаления листа (вершины без потомков)\n",
    "    def del_leaf(self, child, parent):\n",
    "        if parent.left == child:\n",
    "            parent.left = None\n",
    "        elif parent.right == child:\n",
    "            parent.right = None\n",
    " \n",
    "    #метод для удаления вершины с одним потомком\n",
    "    def del_one_child(self, child, parent):\n",
    "        if parent.left == child:\n",
    "            if child.left is None:\n",
    "                parent.left = child.right\n",
    "            elif child.right is None:\n",
    "                parent.left = child.left\n",
    "        elif parent.right == child:\n",
    "            if child.left is None:\n",
    "                parent.right = child.right\n",
    "            elif child.right is None:\n",
    "                parent.right = child.left\n",
    " \n",
    "    #метод для поиска крайней левой вершины (минимальной)\n",
    "    def find_min(self, node, parent):\n",
    "        if node.left:\n",
    "            return self.find_min(node.left, node)\n",
    "        return node, parent\n",
    " \n",
    "    #метод для удаления вершины\n",
    "    def del_node(self, data):\n",
    "        cur, parent, flag = self.search(self.root, None, data)\n",
    "        if not flag:\n",
    "            return None\n",
    " \n",
    "        if cur.left is None and cur.right is None: #если вершина cur листовая (нет потомков)\n",
    "            self.del_leaf(cur, parent)\n",
    "        elif cur.left is None or cur.right is None: #если у вершины cur один потомок\n",
    "            self.del_one_child(cur, parent)\n",
    "        else: #если у вершины cur два потомка\n",
    "            cur_min, parent_min = self.find_min(cur.right, cur) #поиск минимальной вершины в правом поддереве\n",
    "            cur.data = cur_min.data #присвоение значения найденной минимальной вершины удаляемой\n",
    "            self.del_one_child(cur_min, parent_min) #удаление использованной минимальной вершины\n",
    "\n",
    "array = [20, 5, 24, 2, 16, 11, 18]\n",
    "\n",
    "tree = Tree()\n",
    "for x in array:\n",
    "    tree.insert(x)\n",
    "print(\"Arter insert: \")\n",
    "tree.breadth_first(tree.root)\n",
    "tree.del_node(5)\n",
    "print(\"After delete: \")\n",
    "tree.breadth_first(tree.root)"
   ]
  },
  {
   "attachments": {},
   "cell_type": "markdown",
   "metadata": {},
   "source": [
    "Поиск Фибоначчи"
   ]
  },
  {
   "cell_type": "code",
   "execution_count": 6,
   "metadata": {},
   "outputs": [
    {
     "name": "stdout",
     "output_type": "stream",
     "text": [
      "[8, 12, 13, 14, 14, 15, 17, 21, 21, 25, 27, 29, 31, 37, 40, 45, 46, 46, 50, 51]\n",
      "Found index of 15 : 5\n"
     ]
    }
   ],
   "source": [
    "def fibonacciSearch(arr, key):\n",
    "    fibPrev2 = 0\n",
    "    fibPrev1 = 1\n",
    "    fib = fibPrev1 + fibPrev2\n",
    "    while (fib < len(arr)):\n",
    "        fibPrev2 = fibPrev1\n",
    "        fibPrev1 = fib\n",
    "        fib = fibPrev1 + fibPrev2\n",
    "    index = -1;\n",
    "    while (fib > 1):\n",
    "        i = min(index + fibPrev2, (len(arr)-1))\n",
    "        if (arr[i] < key):\n",
    "            fib = fibPrev1\n",
    "            fibPrev1 = fibPrev2\n",
    "            fibPrev2 = fib - fibPrev1\n",
    "            index = i\n",
    "        elif (arr[i] > key):\n",
    "            fib = fibPrev2\n",
    "            fibPrev1 = fibPrev1 - fibPrev2\n",
    "            fibPrev2 = fib - fibPrev1\n",
    "        else :\n",
    "            return i\n",
    "    if (fibPrev1 and index < (len(arr) - 1) and arr[index + 1] == key):\n",
    "        return index + 1;\n",
    "    return -1\n",
    "\n",
    "array = generateArray()\n",
    "print(array)\n",
    "k1 = int(input(\"For search: \", ))\n",
    "print(\"Found index of\", k1, \":\", fibonacciSearch(array, k1))"
   ]
  },
  {
   "attachments": {},
   "cell_type": "markdown",
   "metadata": {},
   "source": [
    "Интерполяционный поиск"
   ]
  },
  {
   "cell_type": "code",
   "execution_count": 5,
   "metadata": {},
   "outputs": [
    {
     "name": "stdout",
     "output_type": "stream",
     "text": [
      "[4, 4, 7, 11, 14, 15, 18, 20, 21, 23, 24, 25, 29, 34, 37, 39, 40, 44, 47, 51]\n",
      "Found index of 11 : 3\n"
     ]
    }
   ],
   "source": [
    "def interpolationSearch(arr, key):\n",
    "    left = 0\n",
    "    right = len(arr) - 1\n",
    "    while left <= right and key >= arr[left] and key <= arr[right]:\n",
    "        index = left + int(((float(right - left) / ( arr[right] - arr[left])) * (key - arr[left])))\n",
    "        if arr[index] == key:\n",
    "            return index\n",
    "        if arr[index] < key:\n",
    "            left = index + 1;\n",
    "        else:\n",
    "            right = index - 1;\n",
    "    return -1\n",
    "\n",
    "array = generateArray()\n",
    "print(array)\n",
    "k1 = int(input(\"For search: \", ))\n",
    "print(\"Found index of\", k1, \":\", interpolationSearch(array, k1))"
   ]
  },
  {
   "attachments": {},
   "cell_type": "markdown",
   "metadata": {},
   "source": [
    "### Задание 2"
   ]
  },
  {
   "attachments": {},
   "cell_type": "markdown",
   "metadata": {},
   "source": [
    "Метод цепочек"
   ]
  },
  {
   "cell_type": "code",
   "execution_count": 7,
   "metadata": {},
   "outputs": [
    {
     "name": "stdout",
     "output_type": "stream",
     "text": [
      "Keys: [-7, 7, 13, 15, 15, 15, 16, 16, 18, 21]\n",
      "Found value of key 16 : 7\n",
      "Value after removing it with key 15 : None\n",
      "None\n"
     ]
    }
   ],
   "source": [
    "#класс узла списка\n",
    "class Node:\n",
    "    def __init__(self, key, value):\n",
    "        self.key = key\n",
    "        self.value = value\n",
    "        self.next = None\n",
    "#класс хэш-таблицы\n",
    "class HashTable:\n",
    "    def __init__(self):\n",
    "        self.capacity = 10 # начальная емкость таблицы\n",
    "        self.size = 0 # количество элементов в таблице\n",
    "        self.buckets = [None] * self.capacity # создаем пустые списки для каждой ячейки таблицы\n",
    "  \n",
    "    #метод добавления элемента в таблицу\n",
    "    def add(self, key, value):\n",
    "        index = hash(key) % self.capacity # вычисляем хэш-код ключа и индекс ячейки таблицы\n",
    "        node = self.buckets[index] # получаем список (цепочку) элементов по индексу\n",
    "        while node: # проходим по всем элементам цепочки\n",
    "            if node.key == key: # если ключ уже есть в таблице, обновляем значение\n",
    "                node.value = value\n",
    "                return\n",
    "            node = node.next\n",
    "        # если ключа нет в таблице, добавляем его в начало цепочки\n",
    "        new_node = Node(key, value)\n",
    "        new_node.next = self.buckets[index]\n",
    "        self.buckets[index] = new_node\n",
    "        self.size += 1\n",
    "        # если количество элементов превысило 70% от емкости таблицы, увеличиваем емкость вдвое\n",
    "        if self.size > 0.7 * self.capacity:\n",
    "            self.resize()\n",
    "  \n",
    "    #метод получения значения по ключу\n",
    "    def get(self, key):\n",
    "        index = hash(key) % self.capacity # вычисляем хэш-код ключа и индекс ячейки таблицы\n",
    "        node = self.buckets[index] # получаем список (цепочку) элементов по индексу\n",
    "        while node: # проходим по всем элементам цепочки\n",
    "            if node.key == key: # если ключ найден, возвращаем его значение\n",
    "                return node.value\n",
    "            node = node.next\n",
    "        # если ключ не найден, возвращаем None\n",
    "        return None\n",
    "  \n",
    "    #метод удаления элемента из таблицы\n",
    "    def remove(self, key):\n",
    "        index = hash(key) % self.capacity # вычисляем хэш-код ключа и индекс ячейки таблицы\n",
    "        node = self.buckets[index] # получаем список (цепочку) элементов по индексу\n",
    "        prev = None\n",
    "        while node: # проходим по всем элементам цепочки\n",
    "            if node.key == key: # если ключ найден, удаляем элемент\n",
    "                if prev:\n",
    "                    prev.next = node.next\n",
    "                else:\n",
    "                    self.buckets[index] = node.next\n",
    "                self.size -= 1\n",
    "                return\n",
    "            prev = node\n",
    "            node = node.next\n",
    "  \n",
    "    #метод изменения емкости таблицы\n",
    "    def resize(self):\n",
    "        new_capacity = self.capacity * 2 # увеличиваем емкость вдвое\n",
    "        new_buckets = [None] * new_capacity # создаем новую таблицу с увеличенной емкостью\n",
    "        # перехешируем все элементы из старой таблицы в новую\n",
    "        for i in range(self.capacity):\n",
    "            node = self.buckets[i]\n",
    "            while node:\n",
    "                index = hash(node.key) % new_capacity\n",
    "                if new_buckets[index]:\n",
    "                    new_node = new_buckets[index]\n",
    "                    while new_node.next:\n",
    "                        new_node = new_node.next\n",
    "                    new_node.next = Node(node.key, node.value)\n",
    "                else:\n",
    "                    new_buckets[index] = Node(node.key, node.value)\n",
    "                node = node.next\n",
    "        self.capacity = new_capacity\n",
    "        self.buckets = new_buckets\n",
    "\n",
    "ht = HashTable()\n",
    "array = generateArray(10, -9, 21)\n",
    "print(\"Keys:\", array)\n",
    "for i in range(len(array)):\n",
    "    ht.add(array[i], i)\n",
    "\n",
    "key1 = int(input(\"For search: \", ))\n",
    "print(\"Found value of key\", key1, \":\", ht.get(key1))\n",
    "key2 = int(input(\"For remove: \", ))\n",
    "ht.remove(key2)\n",
    "print(\"Value after removing it with key\", key2, \":\", ht.get(key2))\n",
    "print(ht.get(key2))"
   ]
  },
  {
   "attachments": {},
   "cell_type": "markdown",
   "metadata": {},
   "source": [
    "Простое рехэширование, рехэширование с помощью псевдослучайных чисел"
   ]
  },
  {
   "cell_type": "code",
   "execution_count": 9,
   "metadata": {},
   "outputs": [
    {
     "name": "stdout",
     "output_type": "stream",
     "text": [
      "(0, 1) (0, 2) (14, 5) (3, 4) (19, 6) (-5, 0) (2, 3) (20, 7) (21, 8) (21, 9) \n",
      " Found value of key 14 : 5\n"
     ]
    }
   ],
   "source": [
    "import random\n",
    "\n",
    "class reHashTable:\n",
    "    \n",
    "    def __init__(self, capacity): \n",
    "        self.capacity = capacity \n",
    "        self.size = 0  \n",
    "        self.list = [None for i in range (self.capacity)]\n",
    "\n",
    "    def insert(self, key, value):\n",
    "        index = self.hash(key)\n",
    "        while self.list[index] is not None:\n",
    "            index = (index + 1) % self.capacity\n",
    "        self.list[index] = (key, value, )\n",
    "\n",
    "    # def hash(self, key):\n",
    "    #     if type (key) is str:\n",
    "    #         hash_key = 0\n",
    "    #         for i in range (len(key)):\n",
    "    #             hash_key += ord(key[i])\n",
    "    #         return hash_key % self.capacity\n",
    "    #     else:\n",
    "    #         return hash(key) % self.capacity\n",
    "    \n",
    "    def hash(self, key):\n",
    "        if type (key) is str:\n",
    "            hash_key = 0\n",
    "            for i in range (len(key)):\n",
    "                hash_key += random.randint(2, 94) * 11\n",
    "            return hash_key % self.capacity\n",
    "        else:\n",
    "            hash_key = key * random.randint(2, 94)\n",
    "            return hash_key % self.capacity\n",
    "    \n",
    "    def print(self):\n",
    "        for i in range(len(self.list)):\n",
    "            print(self.list[i], end=' ')\n",
    "    \n",
    "    def get(self, key):\n",
    "        index = self.hash(key)\n",
    "        while self.list[index] is not None:\n",
    "            if self.list[index][0] == key: \n",
    "                return self.list[index][1]\n",
    "            index = (index + 1) % self.capacity\n",
    "        return None\n",
    "\n",
    "array = generateArray(10, -9, 21)\n",
    "t = reHashTable(len(array))\n",
    "for i in range(len(array)):\n",
    "    t.insert(array[i], i)\n",
    "t.print()\n",
    "\n",
    "key = int(input(\"For search: \", ))\n",
    "print('\\n', \"Found value of key\", key, \":\", t.get(key))"
   ]
  },
  {
   "attachments": {},
   "cell_type": "markdown",
   "metadata": {},
   "source": [
    "### Задание 3"
   ]
  },
  {
   "cell_type": "code",
   "execution_count": 10,
   "metadata": {},
   "outputs": [
    {
     "name": "stdout",
     "output_type": "stream",
     "text": [
      "1 0 0 0 0 0 0 0 \n",
      "0 0 0 0 1 0 0 0 \n",
      "0 0 0 0 0 0 0 1 \n",
      "0 0 0 0 0 1 0 0 \n",
      "0 0 1 0 0 0 0 0 \n",
      "0 0 0 0 0 0 1 0 \n",
      "0 1 0 0 0 0 0 0 \n",
      "0 0 0 1 0 0 0 0 \n"
     ]
    }
   ],
   "source": [
    "n = 8\n",
    "mat = [[0]*n for _ in range(n)] #генерация шахматной доски, заполненной 0\n",
    "\n",
    "def fire(x, y, matrix): #проверка на наличие атаки\n",
    "    for i in range(n): #по вертикали и горизонтали\n",
    "        if matrix[x][i] == 1 or matrix[i][y] == 1:\n",
    "            return True\n",
    "    for i in range(n): #по диагонали\n",
    "        for j in range(n):\n",
    "            if (x + y == i + j or x - y == i - j) and matrix[i][j] == 1:\n",
    "                return True      \n",
    "    return False\n",
    "\n",
    "def solveTask(n, matrix): #расстановка ферзей (обозначены 1)\n",
    "    if n == 0: #для выполнения последующих условий\n",
    "        return True\n",
    "    for i in range(0, len(matrix)):\n",
    "        for j in range(0, len(matrix)):\n",
    "            if not(fire(i, j, matrix)) and matrix[i][j] != 1: #если клетка не под боем ферзя\n",
    "                matrix[i][j] = 1 #ставим ферзя на данную клетку\n",
    "                if solveTask(n - 1, matrix) == True: #если ферзя удалось поставить на предыдущей итерации\n",
    "                    return True\n",
    "                matrix[i][j] = 0\n",
    "    return False\n",
    "\n",
    "def result(matrix): #вывод шахматной доски на экран\n",
    "    for i in range(len(matrix)):\n",
    "        for j in range(len(matrix)):\n",
    "            print(matrix[i][j], end = ' ')\n",
    "        print()\n",
    "\n",
    "solveTask(n, mat)\n",
    "result(mat)"
   ]
  },
  {
   "attachments": {},
   "cell_type": "markdown",
   "metadata": {},
   "source": [
    "Временная сложность алгоритмов"
   ]
  },
  {
   "cell_type": "code",
   "execution_count": 12,
   "metadata": {},
   "outputs": [
    {
     "name": "stdout",
     "output_type": "stream",
     "text": [
      "╒═══════════════════════╤══════════════╤════════╕\n",
      "│ Algorithm             │ Complexity   │   Time │\n",
      "╞═══════════════════════╪══════════════╪════════╡\n",
      "│ Binary Search         │ O(log(N))    │      0 │\n",
      "├───────────────────────┼──────────────┼────────┤\n",
      "│ Search in Binary Tree │ O(log(N))    │      0 │\n",
      "├───────────────────────┼──────────────┼────────┤\n",
      "│ Fibonacci Search      │ O(log(N))    │      0 │\n",
      "├───────────────────────┼──────────────┼────────┤\n",
      "│ Interpolation Search  │ O(log(N))    │      0 │\n",
      "├───────────────────────┼──────────────┼────────┤\n",
      "│ Search in Hash Table  │ O(1)         │      0 │\n",
      "├───────────────────────┼──────────────┼────────┤\n",
      "│ Search in Python      │ O(N)         │      0 │\n",
      "╘═══════════════════════╧══════════════╧════════╛\n"
     ]
    }
   ],
   "source": [
    "from tabulate import tabulate\n",
    "import time\n",
    "\n",
    "array = generateArray(1000, 2, 45)\n",
    "\n",
    "hashtable = HashTable()\n",
    "for i in range(len(array)):\n",
    "    hashtable.add(array[i], i)\n",
    "\n",
    "start_time1 = time.time()\n",
    "binarySearch(array, 7)\n",
    "t_f1 = format((time.time() - start_time1)*1000)\n",
    "start_time2 = time.time()\n",
    "tree.search(tree.root, None, 7)\n",
    "t_d1 = format((time.time() - start_time2)*1000)\n",
    "start_time3 = time.time()\n",
    "fibonacciSearch(array, 7)\n",
    "t_b1 = format((time.time() - start_time3)*1000)\n",
    "start_time4 = time.time()\n",
    "interpolationSearch(array, 7)\n",
    "t_j1 = format((time.time() - start_time4)*1000)\n",
    "start_time5 = time.time()\n",
    "hashtable.get(7)\n",
    "t_l1 = format((time.time() - start_time5)*1000)\n",
    "start_time6 = time.time()\n",
    "array.index(7)\n",
    "t_y1 = format((time.time() - start_time6)*1000)\n",
    "\n",
    "data = [[\"Binary Search\", \"O(log(N))\", t_f1], \n",
    "        [\"Search in Binary Tree\", \"O(log(N))\", t_d1], \n",
    "        [\"Fibonacci Search\", \"O(log(N))\", t_b1], \n",
    "        [\"Interpolation Search\", \"O(log(N))\", t_j1],\n",
    "        [\"Search in Hash Table\", \"O(1)\", t_l1],\n",
    "        [\"Search in Python\", \"O(N)\", t_y1]]\n",
    "\n",
    "col_names = [\"Algorithm\", \"Complexity\", \"Time\"]\n",
    "\n",
    "print(tabulate(data, headers=col_names, tablefmt=\"fancy_grid\"))"
   ]
  },
  {
   "attachments": {},
   "cell_type": "markdown",
   "metadata": {},
   "source": [
    "### Вывод"
   ]
  },
  {
   "attachments": {},
   "cell_type": "markdown",
   "metadata": {},
   "source": [
    "В ходе выполнения лабораторной работы мы реализовали алгоритмы поиска заданных подстроки в строке, предусмотрели существование пробела и чувствительность к регистру, а также по результатам работы проанализировали временную сложность работы заданных алгоритмов в зависимости от количества символов в строке и подстроке."
   ]
  }
 ],
 "metadata": {
  "kernelspec": {
   "display_name": "Python 3",
   "language": "python",
   "name": "python3"
  },
  "language_info": {
   "codemirror_mode": {
    "name": "ipython",
    "version": 3
   },
   "file_extension": ".py",
   "mimetype": "text/x-python",
   "name": "python",
   "nbconvert_exporter": "python",
   "pygments_lexer": "ipython3",
   "version": "3.10.11"
  },
  "orig_nbformat": 4
 },
 "nbformat": 4,
 "nbformat_minor": 2
}
