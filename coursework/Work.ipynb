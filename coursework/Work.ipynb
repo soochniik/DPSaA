{
 "cells": [
  {
   "attachments": {},
   "cell_type": "markdown",
   "metadata": {},
   "source": [
    "# Курсовая работа\n",
    "## по дисциплине \"Структуры и алгоритмы обработки данных\"\n",
    "## Выполнила студентка группы БВТ2103 Пьянова Анна Олеговна"
   ]
  },
  {
   "attachments": {},
   "cell_type": "markdown",
   "metadata": {},
   "source": [
    "### Задание\n",
    "\n",
    "Написать программу, которая будет считывать данные из CSV файла, содержащего\n",
    "информацию о продажах товаров в магазине. Данные в файле содержатся в следующем\n",
    "формате:\n",
    "| Номер заказа | Дата заказа | Название товара | Категория товара | Количество продаж | Цена\n",
    "за единицу | Общая стоимость |\n",
    "\n",
    "Необходимо:\n",
    "1. Рассчитать общую выручку магазина.\n",
    "2. Найти товар, который был продан наибольшее количество раз.\n",
    "3. Найти товар, который принес наибольшую выручку.\n",
    "4. Составить отчет, содержащий информацию об общей выручке магазина, количестве проданных единиц каждого товара и доле каждого товара в общей выручке.\n",
    "\n",
    "Для решения задач необходимо использовать структуры данных, такие как массивы и хеш-таблицы, а также различные алгоритмы обработки данных, например, сортировку и поиск. Также необходимо учитывать возможные ошибки ввода-вывода и обрабатывать их в\n",
    "соответствии с требованиями."
   ]
  },
  {
   "cell_type": "code",
   "execution_count": 22,
   "metadata": {},
   "outputs": [],
   "source": [
    "#при несоответствии ключей таблицы требованиям в условии\n",
    "class KeysNoEqualError(Exception):\n",
    "\n",
    "    def __init__(self, keys, message = \"Keys don't match!\"):\n",
    "        self.keys = keys\n",
    "        self.message = message\n",
    "        super().__init__(self.message)\n",
    "\n",
    "\n",
    "#при ошибочных значениях у поступивших на вход данных\n",
    "class ValueInputError(Exception):\n",
    "    \n",
    "    def __init__(self, message = \"Values don't match the format!\"):\n",
    "        self.message = message\n",
    "        super().__init__(self.message)"
   ]
  },
  {
   "cell_type": "code",
   "execution_count": 23,
   "metadata": {},
   "outputs": [],
   "source": [
    "check_keys = [\n",
    "        \"Номер заказа\", \n",
    "        \"Дата заказа\",\n",
    "        \"Название товара\",\n",
    "        \"Категория товара\",\n",
    "        \"Количество продаж\",\n",
    "        \"Цена за единицу\",\n",
    "        \"Общая стоимость\"\n",
    "    ]\n",
    "\n",
    "def check_values(item):\n",
    "    #проверка на положительные числовые значения\n",
    "    if (int(item[\"Номер заказа\"]) < 0 and int(item[\"Количество продаж\"]) < 0 \n",
    "        and int(item[\"Цена за единицу\"]) < 0 and int(item[\"Общая стоимость\"]) < 0):\n",
    "        return False\n",
    "    date = item[\"Дата заказа\"]\n",
    "    #проверка на верный формат даты\n",
    "    if 1 > int(date[:2]) > 31 and 1 > int(date[3:5]) > 12 and 1990 > int(date[6:]) > 2023:\n",
    "        return False\n",
    "    return True\n"
   ]
  },
  {
   "cell_type": "code",
   "execution_count": 24,
   "metadata": {},
   "outputs": [],
   "source": [
    "import csv\n",
    "\n",
    "def open_csv(file_path):   \n",
    " \n",
    "    #преобразование элементов таблицы в словарь\n",
    "    with open(file_path, encoding='utf-8') as r_file:\n",
    "        file_reader = csv.DictReader(r_file, delimiter = \";\")\n",
    "        items = []\n",
    "        for row in file_reader:\n",
    "            if not check_values(row):\n",
    "                raise ValueInputError\n",
    "            items.append(row)\n",
    "\n",
    "    #получение списка ключей (названий столбцов) таблицы\n",
    "    with open('table.csv', 'r', encoding='utf-8', newline='') as csvfile:\n",
    "        spamreader = csv.reader(csvfile, delimiter=';')\n",
    "        for row in spamreader:\n",
    "            keys = row\n",
    "            break\n",
    "\n",
    "    #обработка исключения\n",
    "    if keys != check_keys:\n",
    "        raise KeysNoEqualError(keys)\n",
    "    \n",
    "    return items, keys\n",
    "\n",
    "items, keys = open_csv(\"table.csv\")"
   ]
  },
  {
   "attachments": {},
   "cell_type": "markdown",
   "metadata": {},
   "source": [
    "### Задание 1"
   ]
  },
  {
   "cell_type": "code",
   "execution_count": 25,
   "metadata": {},
   "outputs": [
    {
     "name": "stdout",
     "output_type": "stream",
     "text": [
      "Общая выручка магазина: 241969500\n"
     ]
    }
   ],
   "source": [
    "sum = 0\n",
    "\n",
    "for item in items:\n",
    "    sum += int(item[\"Общая стоимость\"])\n",
    "\n",
    "print(\"Общая выручка магазина:\", sum)"
   ]
  },
  {
   "attachments": {},
   "cell_type": "markdown",
   "metadata": {},
   "source": [
    "### Задание 2"
   ]
  },
  {
   "cell_type": "code",
   "execution_count": 26,
   "metadata": {},
   "outputs": [],
   "source": [
    "#быстрая сортировка\n",
    "def quick_sort(array, key):\n",
    "    if len(array) <= 1:\n",
    "        return array\n",
    "    else:\n",
    "        barrier = int(array[len(array) // 2][key])\n",
    "        left = [i for i in array if int(i[key]) < barrier]\n",
    "        middle = [i for i in array if int(i[key]) == barrier]\n",
    "        right = [i for i in array if int(i[key]) > barrier]\n",
    "        \n",
    "    return quick_sort(left, key) + middle + quick_sort(right, key)"
   ]
  },
  {
   "cell_type": "code",
   "execution_count": 27,
   "metadata": {},
   "outputs": [
    {
     "name": "stdout",
     "output_type": "stream",
     "text": [
      "Характеристики товара, проданного наибольшее количество раз:\n"
     ]
    },
    {
     "data": {
      "text/plain": [
       "{'Номер заказа': '4010',\n",
       " 'Дата заказа': '10.02.2022',\n",
       " 'Название товара': 'Philips Hue Smart Bulbs',\n",
       " 'Категория товара': 'Умный дом',\n",
       " 'Количество продаж': '500',\n",
       " 'Цена за единицу': '2990',\n",
       " 'Общая стоимость': '1495000'}"
      ]
     },
     "execution_count": 27,
     "metadata": {},
     "output_type": "execute_result"
    }
   ],
   "source": [
    "print(\"Характеристики товара, проданного наибольшее количество раз:\")\n",
    "quick_sort(items, \"Количество продаж\")[-1]"
   ]
  },
  {
   "attachments": {},
   "cell_type": "markdown",
   "metadata": {},
   "source": [
    "### Задание 3"
   ]
  },
  {
   "cell_type": "code",
   "execution_count": 28,
   "metadata": {},
   "outputs": [],
   "source": [
    "#реализация Дека\n",
    "class Deque:\n",
    "\n",
    "    #инициализация\n",
    "    def __init__(self):\n",
    "        self.items = []\n",
    "\n",
    "    #проверка на пустоту\n",
    "    def isEmpty(self):\n",
    "        return self.items == []\n",
    "\n",
    "    #добавление нового элемента в конец\n",
    "    def add(self, item):\n",
    "        self.items.append(item)\n",
    "\n",
    "    #добавление нового элемента в начало\n",
    "    def addLeft(self, item):\n",
    "        self.items.insert(0,item)\n",
    "\n",
    "    #извлечение элемента из конца\n",
    "    def pop(self):\n",
    "        return self.items.pop()\n",
    "\n",
    "    #извлечение элемента из начала\n",
    "    def popLeft(self):\n",
    "        return self.items.pop(0)\n",
    "    \n",
    "    #возвращение последнего элемента\n",
    "    def get(self):\n",
    "        return self.items[len(self.items) - 1]\n",
    "\n",
    "    #возвращение количества элементов\n",
    "    def lenght(self):\n",
    "        return len(self.items)"
   ]
  },
  {
   "cell_type": "code",
   "execution_count": 29,
   "metadata": {},
   "outputs": [],
   "source": [
    "#сортировка по возрастанию с использованием двух Деков\n",
    "def sort_with_deque(array, key):\n",
    "    noSort = Deque()\n",
    "    sort = Deque()\n",
    "\n",
    "    for i in array:\n",
    "        noSort.add(i)\n",
    "\n",
    "    while not noSort.isEmpty():\n",
    "        cur = noSort.pop()\n",
    "        while not sort.isEmpty() and int(sort.get()[key]) > int(cur[key]):\n",
    "            noSort.addLeft(sort.pop())\n",
    "        sort.add(cur)\n",
    "\n",
    "    return sort.get()"
   ]
  },
  {
   "cell_type": "code",
   "execution_count": 30,
   "metadata": {},
   "outputs": [
    {
     "name": "stdout",
     "output_type": "stream",
     "text": [
      "Характеристики товара, который принёс наибольшую выручку:\n"
     ]
    },
    {
     "data": {
      "text/plain": [
       "{'Номер заказа': '4001',\n",
       " 'Дата заказа': '01.02.2022',\n",
       " 'Название товара': 'Apple iPhone 14',\n",
       " 'Категория товара': 'Смартфоны',\n",
       " 'Количество продаж': '500',\n",
       " 'Цена за единицу': '89990',\n",
       " 'Общая стоимость': '44995000'}"
      ]
     },
     "execution_count": 30,
     "metadata": {},
     "output_type": "execute_result"
    }
   ],
   "source": [
    "print(\"Характеристики товара, который принёс наибольшую выручку:\")\n",
    "sort_with_deque(items, \"Общая стоимость\")"
   ]
  },
  {
   "attachments": {},
   "cell_type": "markdown",
   "metadata": {},
   "source": [
    "### Задание 4"
   ]
  },
  {
   "cell_type": "code",
   "execution_count": 31,
   "metadata": {},
   "outputs": [
    {
     "name": "stdout",
     "output_type": "stream",
     "text": [
      "Общая выручка магазина: 241969500\n",
      "Название товара: Philips Hue Smart Bulbs ; Количество продаж: 500 ; Доля товара в общей выручке: 0.6178464641204781 %\n",
      "Название товара: Philips Sonicare DiamondClean ; Количество продаж: 200 ; Доля товара в общей выручке: 0.8257239032192073 %\n",
      "Название товара: Nest Learning Thermostat ; Количество продаж: 100 ; Доля товара в общей выручке: 0.8261371784460437 %\n",
      "Название товара: Bose SoundLink Revolve+ ; Количество продаж: 100 ; Доля товара в общей выручке: 1.032774791864264 %\n",
      "Название товара: Bose QuietComfort 55 ; Количество продаж: 100 ; Доля товара в общей выручке: 1.446050018700704 %\n",
      "Название товара: DJI Mavic 3 ; Количество продаж: 25 ; Доля товара в общей выручке: 1.5496787818299413 %\n",
      "Название товара: Samsung Galaxy Watch 5 ; Количество продаж: 150 ; Доля товара в общей выручке: 1.8591186079237259 %\n",
      "Название товара: LG UltraFine ; Количество продаж: 50 ; Доля товара в общей выручке: 2.0661694965687825 %\n",
      "Название товара: Samsung Galaxy Tab S8 ; Количество продаж: 75 ; Доля товара в общей выручке: 2.169384984471183 %\n",
      "Название товара: Sony PlayStation 5 Pro ; Количество продаж: 100 ; Доля товара в общей выручке: 2.4792380857918044 %\n",
      "Название товара: Samsung Galaxy Book Pro ; Количество продаж: 50 ; Доля товара в общей выручке: 2.6860823368234423 %\n",
      "Название товара: Игровые приставки ; Количество продаж: 200 ; Доля товара в общей выручке: 4.958476171583609 %\n",
      "Название товара: Canon EOS R7 ; Количество продаж: 50 ; Доля товара в общей выручке: 5.165733697842083 %\n",
      "Название товара: DJI Ronin 4D ; Количество продаж: 25 ; Доля товара в общей выручке: 5.165837016648792 %\n",
      "Название товара: Apple iPad Pro 12.9 ; Количество продаж: 200 ; Доля товара в общей выручке: 7.43812753260225 %\n",
      "Название товара: Apple MacBook Pro 16 ; Количество продаж: 100 ; Доля товара в общей выручке: 8.265091261501967 %\n",
      "Название товара: Canon EOS R8 ; Количество продаж: 75 ; Доля товара в общей выручке: 9.298382647399775 %\n",
      "Название товара: LG OLED TV ; Количество продаж: 150 ; Доля товара в общей выручке: 11.15781121174363 %\n",
      "Название товара: Samsung Galaxy S22 Ultra ; Количество продаж: 300 ; Доля товара в общей выручке: 12.397016979412696 %\n",
      "Название товара: Apple iPhone 14 ; Количество продаж: 500 ; Доля товара в общей выручке: 18.595318831505622 %\n"
     ]
    }
   ],
   "source": [
    "print(\"Общая выручка магазина:\", sum)\n",
    "\n",
    "for item in quick_sort(items, \"Общая стоимость\"):\n",
    "    try:\n",
    "        print(\n",
    "            \"Название товара:\", item[\"Название товара\"], \";\",\n",
    "            \"Количество продаж:\", item[\"Количество продаж\"], \";\",\n",
    "            \"Доля товара в общей выручке:\", int(item[\"Общая стоимость\"]) / sum * 100, \"%\"\n",
    "        )\n",
    "    except ZeroDivisionError:\n",
    "        print(\"Can't divide by zero!\")\n",
    "        break\n"
   ]
  }
 ],
 "metadata": {
  "kernelspec": {
   "display_name": "Python 3",
   "language": "python",
   "name": "python3"
  },
  "language_info": {
   "codemirror_mode": {
    "name": "ipython",
    "version": 3
   },
   "file_extension": ".py",
   "mimetype": "text/x-python",
   "name": "python",
   "nbconvert_exporter": "python",
   "pygments_lexer": "ipython3",
   "version": "3.10.11"
  },
  "orig_nbformat": 4
 },
 "nbformat": 4,
 "nbformat_minor": 2
}
